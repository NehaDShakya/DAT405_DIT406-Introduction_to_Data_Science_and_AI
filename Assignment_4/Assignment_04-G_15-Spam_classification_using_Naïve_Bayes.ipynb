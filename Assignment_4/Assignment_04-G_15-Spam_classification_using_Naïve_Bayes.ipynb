{
 "cells": [
  {
   "cell_type": "markdown",
   "id": "31539c58",
   "metadata": {},
   "source": [
    "# Assignment 4: Spam classification using Naïve Bayes\n",
    "\n",
    "**Submitted by:** *Neha Devi Shakya 13h, Sarvesh Meenowa 13h*"
   ]
  },
  {
   "cell_type": "markdown",
   "id": "40a6c924",
   "metadata": {},
   "source": [
    "There will be an overall grade for this assignment. To get a pass grade (grade 3), you need to pass items 1-3 below. To receive higher grades, finish items 4 and 5 as well.\n",
    "\n",
    "In this assignment you will implement a Naïve Bayes classifier in Python that will classify emails into spam and non-spam (“ham”) classes. Your program should be able to train on a given set of spam and “ham” datasets.\n",
    "\n",
    "You will work with the datasets available at https://spamassassin.apache.org/old/publiccorpus/. There are three types of files in this location: \n",
    "* easy-ham: non-spam messages typically quite easy to differentiate from spam messages. \n",
    "* hard-ham: non-spam messages more difficult to differentiate\n",
    "* spam: spam messages\n",
    "\n",
    "There are multiple folders for each category, download at least the first three, but results will be more stable the more data you have for each category. Read the “readme.html” for a full description of the file contents. \n",
    "\n",
    "The .bz2-file can be unzipped using the linux command\n",
    "\n",
    "        tar –xjvf file.bz2\n",
    "\n",
    "which will result in a directory named “file”, containing all email messages as separate files. I suggest you uncompressed the files before trying to lead them into Python.\n"
   ]
  },
  {
   "cell_type": "markdown",
   "id": "12b876b3",
   "metadata": {},
   "source": [
    "## 1.\tPreprocessing: \n",
    "Note that the email files contain a lot of extra information, besides the actual message. Ignore that for now and run on the entire text. Further down (in the higher-grade part), you will be asked to filter out the headers and footers. \n"
   ]
  },
  {
   "cell_type": "code",
   "execution_count": 1,
   "id": "0107d4f6",
   "metadata": {},
   "outputs": [
    {
     "name": "stderr",
     "output_type": "stream",
     "text": [
      "[nltk_data] Downloading package stopwords to\n",
      "[nltk_data]     C:\\Users\\Administrator\\AppData\\Roaming\\nltk_data...\n",
      "[nltk_data]   Package stopwords is already up-to-date!\n",
      "[nltk_data] Downloading package punkt to\n",
      "[nltk_data]     C:\\Users\\Administrator\\AppData\\Roaming\\nltk_data...\n",
      "[nltk_data]   Package punkt is already up-to-date!\n"
     ]
    },
    {
     "data": {
      "text/plain": [
       "True"
      ]
     },
     "execution_count": 1,
     "metadata": {},
     "output_type": "execute_result"
    }
   ],
   "source": [
    "#import all packages\n",
    "import email\n",
    "\n",
    "import matplotlib.pyplot as plt\n",
    "import nltk\n",
    "import numpy as np\n",
    "import pandas as pd\n",
    "import seaborn as sns\n",
    "from nltk.corpus import stopwords\n",
    "from nltk.tokenize import word_tokenize\n",
    "from sklearn.datasets import load_files\n",
    "from sklearn.feature_extraction.text import CountVectorizer\n",
    "from sklearn.metrics import (ConfusionMatrixDisplay, accuracy_score, \n",
    "                             classification_report, confusion_matrix,\n",
    "                             plot_confusion_matrix)\n",
    "from sklearn.model_selection import train_test_split\n",
    "from sklearn.naive_bayes import BernoulliNB, MultinomialNB\n",
    "\n",
    "nltk.download(\"stopwords\")\n",
    "nltk.download(\"punkt\")"
   ]
  },
  {
   "cell_type": "markdown",
   "id": "935b41d0",
   "metadata": {},
   "source": [
    "### a. Load the text data into your Python program. Hint: look at the documentation for the sklearn.datasets.load_files function. Hint 2: use encoding = ”latin-1”. Investigate how many emails are in each category and note this in your report."
   ]
  },
  {
   "cell_type": "markdown",
   "id": "539a4bd6",
   "metadata": {},
   "source": [
    "**We decided to include the emails from all the forlders given in the link ([spamassassin.apache.org/old/publiccorpus/](https://spamassassin.apache.org/old/publiccorpus/)).**"
   ]
  },
  {
   "cell_type": "code",
   "execution_count": null,
   "id": "38141276",
   "metadata": {},
   "outputs": [],
   "source": [
    "import zipfile\n",
    "with zipfile.ZipFile(\"data/data.zip\", 'r') as zip_ref:\n",
    "    zip_ref.extractall(\"data/\")"
   ]
  },
  {
   "cell_type": "code",
   "execution_count": 2,
   "id": "8193a765",
   "metadata": {},
   "outputs": [],
   "source": [
    "# use sklearn load_files to have data on easy ham vs spam\n",
    "emails_easy_spam = load_files(\"data/raw/easy_ham_vs_spam_data/\", encoding = \"latin-1\")\n",
    "\n",
    "# use sklearn load_files to have data on hard ham vs spam\n",
    "emails_hard_spam = load_files(\"data/raw/hard_ham_vs_spam_data/\", encoding=\"latin-1\")"
   ]
  },
  {
   "cell_type": "code",
   "execution_count": 3,
   "id": "a31a0c86",
   "metadata": {},
   "outputs": [
    {
     "data": {
      "text/plain": [
       "array([6452, 2399], dtype=int64)"
      ]
     },
     "execution_count": 3,
     "metadata": {},
     "output_type": "execute_result"
    }
   ],
   "source": [
    "np.bincount(emails_easy_spam.target)"
   ]
  },
  {
   "cell_type": "code",
   "execution_count": 4,
   "id": "9c3a642a",
   "metadata": {},
   "outputs": [
    {
     "data": {
      "text/plain": [
       "array([ 501, 2399], dtype=int64)"
      ]
     },
     "execution_count": 4,
     "metadata": {},
     "output_type": "execute_result"
    }
   ],
   "source": [
    "np.bincount(emails_hard_spam.target)"
   ]
  },
  {
   "cell_type": "markdown",
   "id": "58b452f0",
   "metadata": {},
   "source": [
    "|   Esay Ham    |   Hard Ham    |   Spam    |\n",
    "|     :----:    |     :----:    |   :----:  |\n",
    "|     6452      |      501      |   2399    |"
   ]
  },
  {
   "cell_type": "markdown",
   "id": "95429682",
   "metadata": {},
   "source": [
    "### b. We don’t want to train and test on the same data. Split the spam and the ham datasets in a training set and a test set. Hint: look at the documentation for sklearn’s train_test_split() function."
   ]
  },
  {
   "cell_type": "code",
   "execution_count": 5,
   "id": "942e57cf",
   "metadata": {},
   "outputs": [],
   "source": [
    "# split the spam and the ham datasets in a training set and a test set.\n",
    "x_easy_spam_train, x_easy_spam_test, y_easy_spam_train, y_easy_spam_test = train_test_split(emails_easy_spam.data, emails_easy_spam.target, test_size = 0.2, random_state = 0)\n",
    "x_hard_spam_train, x_hard_spam_test, y_hard_spam_train, y_hard_spam_test = train_test_split(emails_hard_spam.data, emails_hard_spam.target, test_size = 0.2, random_state = 0)"
   ]
  },
  {
   "cell_type": "markdown",
   "id": "f4d84c18",
   "metadata": {},
   "source": [
    "## 2. For this question you will write a function in Python with the following name and arguments:  \n",
    "    def run_naiveBayes(ham_train, ham_test, spam_train, spam_test):"
   ]
  },
  {
   "cell_type": "markdown",
   "id": "418a6ee9",
   "metadata": {},
   "source": [
    "### Naive Bayes Classification Function"
   ]
  },
  {
   "cell_type": "code",
   "execution_count": 6,
   "id": "de51dd78",
   "metadata": {},
   "outputs": [],
   "source": [
    "def run_naiveBayes(ham_train, ham_test, spam_train, spam_test, model_name):\n",
    "    if model_name == \"MultinomialNB\":\n",
    "        # Transform the data into vectors with CountVectorizer\n",
    "        CV = CountVectorizer()\n",
    "        x_train = CV.fit_transform(ham_train)\n",
    "        x_test = CV.transform(ham_test)\n",
    "        y_train = spam_train.astype(\"int\")\n",
    "\n",
    "        # Train the MultinomialNB classifier\n",
    "        model = MultinomialNB().fit(x_train, y_train)\n",
    "            \n",
    "    elif model_name == \"BernoulliNB\":\n",
    "        # Transform the data into vectors with CountVectorizer with binary = True\n",
    "        CV = CountVectorizer(binary = True)\n",
    "        x_train = CV.fit_transform(ham_train)\n",
    "        x_test = CV.transform(ham_test)\n",
    "        y_train = spam_train.astype(\"int\")\n",
    "        \n",
    "        # Train the BernouilliNB classifier\n",
    "        model = BernoulliNB().fit(x_train, y_train)\n",
    "\n",
    "    # predict spam or ham\n",
    "    y_pred = model.predict(x_test)\n",
    "    # calculate accuracy score\n",
    "    acc = accuracy_score(spam_test, y_pred)\n",
    "    # create confusion matrix\n",
    "    cm = confusion_matrix(spam_test, y_pred)\n",
    "    # create classification report\n",
    "    cr = classification_report(spam_test,y_pred)\n",
    "\n",
    "    return acc, cm, cr"
   ]
  },
  {
   "cell_type": "markdown",
   "id": "46963873",
   "metadata": {},
   "source": [
    "### Discuss the differences between Multinomial Naive Bayes and Bernouilli Naive Bayes"
   ]
  },
  {
   "cell_type": "markdown",
   "id": "bf3fd1a7",
   "metadata": {},
   "source": [
    "The Bernoulli Naive Nayes classifier performs the classifications of the emails based on words(features) occuring or not. In general,it treats features(words) as binary values whereas the Multinomial Naive Bayes classifier calculates the frequency with which a feature(a word in context of this classification) appears.\n",
    "\n",
    "For instance, if we take two snippets of two emails :\n",
    "* Text 1 : \"Invest in crypto crypto crypto\"\n",
    "* Text 2 : \"Invest in crypto\"\n",
    "\n",
    "Bernoulli NB would classify Text 1 and Text 2 similarly since it checks if the feature \"crypto\" is there but doesn't account for the frequency, which Multinomial NB will account for. The way the classifiers work differs, which has an impact on how well they perform. From the preceding example, it is plausible explanation why the multinomial classifier outperforms the bernoulli classifier as we see later in part 3."
   ]
  },
  {
   "cell_type": "markdown",
   "id": "68ef37ce",
   "metadata": {},
   "source": [
    "## 3. Run the function you wrote in the previous question on"
   ]
  },
  {
   "cell_type": "code",
   "execution_count": 7,
   "id": "274a192f",
   "metadata": {},
   "outputs": [],
   "source": [
    "def plot_cfm(cfm, acc, model_name: str, tick_labels: list):\n",
    "    # set plot size\n",
    "    plt.figure(figsize = (15, 10))\n",
    "\n",
    "    fig = sns.heatmap(cfm, annot = True, fmt = \"d\", linewidths = .5, square = True, cmap = \"Blues_r\")\n",
    "\n",
    "    # add plot title and axis labels\n",
    "    all_sample_title = f\"Confusion Matrix for {model_name} classification \\n\\n Accuracy Score: {round(acc, 3)}\"\n",
    "    fig.set_title(all_sample_title, size = 15)\n",
    "    fig.set_xlabel(\"Predicted label\")\n",
    "    fig.set_ylabel(\"Actual label\")\n",
    "    fig.xaxis.set_ticklabels(tick_labels)\n",
    "    fig.yaxis.set_ticklabels(tick_labels)\n",
    "    plt.show()"
   ]
  },
  {
   "cell_type": "markdown",
   "id": "089b3ad7",
   "metadata": {},
   "source": [
    "### i.\tSpam versus easy-ham"
   ]
  },
  {
   "cell_type": "markdown",
   "id": "22184cee",
   "metadata": {},
   "source": [
    "#### Multinomial Naive Bayes"
   ]
  },
  {
   "cell_type": "code",
   "execution_count": 8,
   "id": "c54688f8",
   "metadata": {},
   "outputs": [],
   "source": [
    "acc_easy_mnb, cfm_easy_mnb, cr_easy_mnb = run_naiveBayes(x_easy_spam_train, x_easy_spam_test, y_easy_spam_train, y_easy_spam_test, \"MultinomialNB\")"
   ]
  },
  {
   "cell_type": "code",
   "execution_count": 9,
   "id": "68132b1a",
   "metadata": {},
   "outputs": [
    {
     "data": {
      "image/png": "[encoded data removed]",
      "text/plain": [
       "<Figure size 1080x720 with 2 Axes>"
      ]
     },
     "metadata": {
      "needs_background": "light"
     },
     "output_type": "display_data"
    }
   ],
   "source": [
    "plot_cfm(cfm_easy_mnb, acc_easy_mnb, \"Multinomial Naive Bayes\", [\"Easy Ham\", \"Spam\"])"
   ]
  },
  {
   "cell_type": "code",
   "execution_count": 10,
   "id": "63ffc446",
   "metadata": {},
   "outputs": [
    {
     "name": "stdout",
     "output_type": "stream",
     "text": [
      "              precision    recall  f1-score   support\n",
      "\n",
      "           0       0.97      1.00      0.98      1305\n",
      "           1       1.00      0.90      0.95       466\n",
      "\n",
      "    accuracy                           0.97      1771\n",
      "   macro avg       0.98      0.95      0.96      1771\n",
      "weighted avg       0.97      0.97      0.97      1771\n",
      "\n"
     ]
    }
   ],
   "source": [
    "print(cr_easy_mnb)"
   ]
  },
  {
   "cell_type": "markdown",
   "id": "95fb8bc0",
   "metadata": {},
   "source": [
    "### Why is only reporting accuracy not a good idea in this case? "
   ]
  },
  {
   "cell_type": "markdown",
   "id": "6eb92f0c",
   "metadata": {},
   "source": [
    "With the Multinomial Naive Bayes classifier, we obtained an accuracy of 0.97 when classifying easy ham and spam. However, the value of this accuracy may be misleading since the classification accuracy fails on classification problems with a skewed class distribution(more hams than spams), which means we have to use other evaluation metrics such as precision and recall."
   ]
  },
  {
   "cell_type": "markdown",
   "id": "08614273",
   "metadata": {},
   "source": [
    "To obtain precision and recall, we use the classification report function from sklearn. We consider the precision and recall for the positive class, i.e. spam. The precision is very high at 1.00, which means it has no false positives i.e. there are no actual hams are classified as spams. The model has lower recall which means that it has more false negatives(FN = 47), i.e. spams are misclassified as hams. There is a trade-off between precision and recall. However, to know which one (precision or recall) we want to be higher depends on the context and which one would consider worse, having more spams classified as hams or more hams classified as spams."
   ]
  },
  {
   "cell_type": "markdown",
   "id": "0fb359ae",
   "metadata": {},
   "source": [
    "#### Bernouilli Naive Bayes\n"
   ]
  },
  {
   "cell_type": "code",
   "execution_count": 11,
   "id": "b36ea21d",
   "metadata": {},
   "outputs": [],
   "source": [
    "acc_easy_bnb, cfm_easy_bnb, cr_easy_bnb = run_naiveBayes(x_easy_spam_train, x_easy_spam_test, y_easy_spam_train, y_easy_spam_test, \"BernoulliNB\")"
   ]
  },
  {
   "cell_type": "code",
   "execution_count": 12,
   "id": "1e3d368a",
   "metadata": {},
   "outputs": [
    {
     "data": {
      "image/png": "[encoded data removed]",
      "text/plain": [
       "<Figure size 1080x720 with 2 Axes>"
      ]
     },
     "metadata": {
      "needs_background": "light"
     },
     "output_type": "display_data"
    }
   ],
   "source": [
    "plot_cfm(cfm_easy_bnb, acc_easy_bnb, \"Bernouilli Naive Bayes\", [\"Easy Ham\", \"Spam\"])"
   ]
  },
  {
   "cell_type": "code",
   "execution_count": 13,
   "id": "066205a7",
   "metadata": {},
   "outputs": [
    {
     "name": "stdout",
     "output_type": "stream",
     "text": [
      "              precision    recall  f1-score   support\n",
      "\n",
      "           0       0.95      1.00      0.97      1305\n",
      "           1       1.00      0.85      0.92       466\n",
      "\n",
      "    accuracy                           0.96      1771\n",
      "   macro avg       0.97      0.92      0.94      1771\n",
      "weighted avg       0.96      0.96      0.96      1771\n",
      "\n"
     ]
    }
   ],
   "source": [
    "print(cr_easy_bnb)"
   ]
  },
  {
   "cell_type": "markdown",
   "id": "902a382c",
   "metadata": {},
   "source": [
    "### Why is only reporting accuracy not a good idea in this case? "
   ]
  },
  {
   "cell_type": "markdown",
   "id": "76edd9eb",
   "metadata": {},
   "source": [
    "Despite having a relatively high accuracy (0.96), the Bernoulli NB classifier has a relatively low recall for the positive class, i.e. spam; that is, it has a high number of false-negative (FN = 72), i.e. spams are misclassified as easy hams."
   ]
  },
  {
   "cell_type": "markdown",
   "id": "a78ad573",
   "metadata": {},
   "source": [
    "### ii Spam versus hard-ham"
   ]
  },
  {
   "cell_type": "markdown",
   "id": "7b1099da",
   "metadata": {},
   "source": [
    "#### Multinomial Naive Bayes"
   ]
  },
  {
   "cell_type": "code",
   "execution_count": 14,
   "id": "a3013da0",
   "metadata": {},
   "outputs": [],
   "source": [
    "acc_hard_mnb, cfm_hard_mnb, cr_hard_mnb = run_naiveBayes(x_hard_spam_train, x_hard_spam_test, y_hard_spam_train, y_hard_spam_test, \"MultinomialNB\")"
   ]
  },
  {
   "cell_type": "code",
   "execution_count": 15,
   "id": "7522ea72",
   "metadata": {},
   "outputs": [
    {
     "data": {
      "image/png": "[encoded data removed]",
      "text/plain": [
       "<Figure size 1080x720 with 2 Axes>"
      ]
     },
     "metadata": {
      "needs_background": "light"
     },
     "output_type": "display_data"
    }
   ],
   "source": [
    "plot_cfm(cfm_hard_mnb, acc_hard_mnb, \"Multinomial Naive Bayes\", [\"Hard Ham\", \"Spam\"])"
   ]
  },
  {
   "cell_type": "code",
   "execution_count": 16,
   "id": "9a1d9923",
   "metadata": {},
   "outputs": [
    {
     "name": "stdout",
     "output_type": "stream",
     "text": [
      "              precision    recall  f1-score   support\n",
      "\n",
      "           0       0.93      0.77      0.84       101\n",
      "           1       0.95      0.99      0.97       479\n",
      "\n",
      "    accuracy                           0.95       580\n",
      "   macro avg       0.94      0.88      0.91       580\n",
      "weighted avg       0.95      0.95      0.95       580\n",
      "\n"
     ]
    }
   ],
   "source": [
    "print(cr_hard_mnb)"
   ]
  },
  {
   "cell_type": "markdown",
   "id": "31b62553",
   "metadata": {},
   "source": [
    "Multinomial Naive Bayes performs well accuracy wise (0.95) and has both precision and recall close to 1, which is the ideal scenario in the classification of hard ham and spam. This time the accuracy score is closer to the f1-score (or precision/recall) since the dataset is less imbalanced than easy ham and spam."
   ]
  },
  {
   "cell_type": "markdown",
   "id": "c92275da",
   "metadata": {},
   "source": [
    "#### Bernoulli Naive Bayes"
   ]
  },
  {
   "cell_type": "code",
   "execution_count": 17,
   "id": "76918a1a",
   "metadata": {},
   "outputs": [],
   "source": [
    "acc_hard_bnb, cfm_hard_bnb, cr_hard_bnb = run_naiveBayes(x_hard_spam_train, x_hard_spam_test, y_hard_spam_train, y_hard_spam_test, \"BernoulliNB\")"
   ]
  },
  {
   "cell_type": "code",
   "execution_count": 18,
   "id": "682a6097",
   "metadata": {},
   "outputs": [
    {
     "data": {
      "image/png": "[encoded data removed]",
      "text/plain": [
       "<Figure size 1080x720 with 2 Axes>"
      ]
     },
     "metadata": {
      "needs_background": "light"
     },
     "output_type": "display_data"
    }
   ],
   "source": [
    "plot_cfm(cfm_hard_bnb, acc_hard_bnb, \"Bernoulli Naive Bayes\", [\"Hard Ham\", \"Spam\"])"
   ]
  },
  {
   "cell_type": "code",
   "execution_count": 19,
   "id": "aff715fc",
   "metadata": {},
   "outputs": [
    {
     "name": "stdout",
     "output_type": "stream",
     "text": [
      "              precision    recall  f1-score   support\n",
      "\n",
      "           0       0.89      0.70      0.78       101\n",
      "           1       0.94      0.98      0.96       479\n",
      "\n",
      "    accuracy                           0.93       580\n",
      "   macro avg       0.91      0.84      0.87       580\n",
      "weighted avg       0.93      0.93      0.93       580\n",
      "\n"
     ]
    }
   ],
   "source": [
    "print(cr_hard_bnb)"
   ]
  },
  {
   "cell_type": "markdown",
   "id": "9cbe48b5",
   "metadata": {},
   "source": [
    "Bernoulli NB has an accuracy of 0.93 in hard ham and spam classification. The model has a very high recall and lower precision, meaning it has more false positives, i.e. it misclassifies hard hams as spams. "
   ]
  },
  {
   "cell_type": "markdown",
   "id": "04b029ae",
   "metadata": {},
   "source": [
    "<table class=\"tg\">\n",
    "<thead>\n",
    "  <tr>\n",
    "    <th class=\"tg-c3ow\" rowspan=\"3\">Classifier</th>\n",
    "    <th class=\"tg-c3ow\" rowspan=\"3\">Ham Type</th>\n",
    "    <th class=\"tg-c3ow\" colspan=\"7\">Part 3</th>\n",
    "  </tr>\n",
    "  <tr>\n",
    "    <th class=\"tg-c3ow\" rowspan=\"2\">accuracy</th>\n",
    "    <th class=\"tg-c3ow\" colspan=\"2\">precision</th>\n",
    "    <th class=\"tg-c3ow\" colspan=\"2\">recall</th>\n",
    "    <th class=\"tg-c3ow\" colspan=\"2\">f1-score</th>\n",
    "  </tr>\n",
    "  <tr>\n",
    "    <th class=\"tg-c3ow\">0</th>\n",
    "    <th class=\"tg-c3ow\">1</th>\n",
    "    <th class=\"tg-c3ow\">0</th>\n",
    "    <th class=\"tg-c3ow\">1</th>\n",
    "    <th class=\"tg-c3ow\">0</th>\n",
    "    <th class=\"tg-c3ow\">1</th>\n",
    "  </tr>\n",
    "</thead>\n",
    "<tbody>\n",
    "  <tr>\n",
    "    <td class=\"tg-c3ow\" rowspan=\"2\">Multinomial Naive Bayes</td>\n",
    "    <td class=\"tg-c3ow\">Easy</td>\n",
    "    <td class=\"tg-c3ow\">0.97</td>\n",
    "    <td class=\"tg-c3ow\">0.97</td>\n",
    "    <td class=\"tg-c3ow\">1.00</td>\n",
    "    <td class=\"tg-c3ow\">1.00</td>\n",
    "    <td class=\"tg-c3ow\">0.90</td>\n",
    "    <td class=\"tg-c3ow\">0.98</td>\n",
    "    <td class=\"tg-c3ow\">0.95</td>\n",
    "  </tr>\n",
    "  <tr>\n",
    "    <td class=\"tg-c3ow\">Hard</td>\n",
    "    <td class=\"tg-c3ow\">0.95</td>\n",
    "    <td class=\"tg-c3ow\">0.93</td>\n",
    "    <td class=\"tg-c3ow\">0.95</td>\n",
    "    <td class=\"tg-c3ow\">0.77</td>\n",
    "    <td class=\"tg-c3ow\">0.99</td>\n",
    "    <td class=\"tg-c3ow\">0.84</td>\n",
    "    <td class=\"tg-c3ow\">0.97</td>\n",
    "  </tr>\n",
    "  <tr>\n",
    "    <td class=\"tg-c3ow\" rowspan=\"2\">Bernoulli Naive Bayes</td>\n",
    "    <td class=\"tg-c3ow\">Easy</td>\n",
    "    <td class=\"tg-c3ow\">0.96</td>\n",
    "    <td class=\"tg-c3ow\">0.95</td>\n",
    "    <td class=\"tg-c3ow\">1.00</td>\n",
    "    <td class=\"tg-c3ow\">1.00</td>\n",
    "    <td class=\"tg-c3ow\">0.85</td>\n",
    "    <td class=\"tg-c3ow\">0.97</td>\n",
    "    <td class=\"tg-c3ow\">0.92</td>\n",
    "  </tr>\n",
    "  <tr>\n",
    "    <td class=\"tg-c3ow\">Hard</td>\n",
    "    <td class=\"tg-c3ow\">0.93</td>\n",
    "    <td class=\"tg-c3ow\">0.89</td>\n",
    "    <td class=\"tg-c3ow\">0.94</td>\n",
    "    <td class=\"tg-c3ow\">0.70</td>\n",
    "    <td class=\"tg-c3ow\">0.98</td>\n",
    "    <td class=\"tg-c3ow\">0.78</td>\n",
    "    <td class=\"tg-c3ow\">0.96</td>\n",
    "  </tr>\n",
    "</tbody>\n",
    "</table>"
   ]
  },
  {
   "cell_type": "markdown",
   "id": "fc7169c3",
   "metadata": {},
   "source": [
    "Overall, Multinomial Naive Bayes performs better than  Bernoulli Naive Bayes in classifying easy ham and hard ham versus spam, which was expected due to how the algorithms operate, as mentioned above."
   ]
  },
  {
   "cell_type": "markdown",
   "id": "d052e4bc",
   "metadata": {},
   "source": [
    "## 4.\t[For higher grades] To avoid classification based on common and uninformative words it is common to filter these out. "
   ]
  },
  {
   "cell_type": "markdown",
   "id": "e175415f",
   "metadata": {},
   "source": [
    "### a.\tArgue why this may be useful. Try finding the words that are too common/uncommon in the dataset. "
   ]
  },
  {
   "cell_type": "markdown",
   "id": "28d5ec9e",
   "metadata": {},
   "source": [
    "Those words are known as stopwords. They occur in abundance in any human language. Stopwords refer to the words in any language which does not add much meaning to a sentence. By removing the low-level information from our dataset, we can give more focus to the important information. As a result, removing stopwords may aid performance by reducing the number of tokens available to only the most important ones. Also, removing stopwords decreases the data size, and the training time also decreases with no discernible effect on the model \"s accuracy.\n",
    "\n",
    "While libraries such as NLTK and Spacey have a corpus of stopwords which generalizes common words used in different languages, it will remove words such as \"the\", \"is\", and \"and\". However, in sklearn, for CountVectorizer (which we will use in 3 (b), we have an in-built parameter to control stopwords because they either : \n",
    "\n",
    " * occurred in too many documents (max_df)\n",
    " * occurred in too few documents (min_df)\n",
    " * were cut off by feature selection (max_features).\n",
    " \n",
    "If we use the stop_words = \"english\" parameter in CountVectorize, sklearn acknowledges that there are several known issues with 'english' and considers an alternative such as using (min_df,max_df) = (0,0.7). In 3 (b), we tried for the CountVectorizer() with (min_df,max_df) = (0,0.7); however, if we want to optimize the model, we can perform hyperparameter tuning to obtain min_df and max_df values, which give better results in terms of precision, recall or f1-score.\n",
    "\n"
   ]
  },
  {
   "cell_type": "code",
   "execution_count": 20,
   "id": "15a66345",
   "metadata": {},
   "outputs": [],
   "source": [
    "# function to get the most frequent (common/uncommon) words in a given text corpus.\n",
    "def get_frequent_words(corpus, order, n = None):\n",
    "    vector = CountVectorizer().fit(corpus)\n",
    "    bag_of_words = vector.transform(corpus)\n",
    "    words_sum = bag_of_words.sum(axis = 0)\n",
    "    words_frequency = [(word, words_sum [0, idx]) for word, idx in vector.vocabulary_.items()]\n",
    "    \n",
    "    if order.lower() == \"common\":\n",
    "        words_frequency = sorted(words_frequency, key = lambda x: x[1], reverse = True)\n",
    "    elif order.lower() == \"uncommon\":\n",
    "        words_frequency = sorted(words_frequency, key = lambda x: x[1], reverse = False)\n",
    "    \n",
    "    return words_frequency[:n]"
   ]
  },
  {
   "cell_type": "code",
   "execution_count": 21,
   "id": "4ea84466",
   "metadata": {},
   "outputs": [
    {
     "data": {
      "text/plain": [
       "[('4480043fb1', 1),\n",
       " ('g79hrpb17417', 1),\n",
       " ('31e4329410f', 1),\n",
       " ('4a7ed2940fc', 1),\n",
       " ('g79hhfg17946', 1),\n",
       " ('3d53f935', 1),\n",
       " ('2020704', 1),\n",
       " ('squick', 1),\n",
       " ('schmegma', 1),\n",
       " ('dork', 1),\n",
       " ('slithy', 1),\n",
       " ('mimsy', 1),\n",
       " ('gimble', 1),\n",
       " ('frumious', 1),\n",
       " ('bequeathed', 1),\n",
       " ('45f2f440cc', 1),\n",
       " ('g6njjj422662', 1),\n",
       " ('46433294109', 1),\n",
       " ('15116294106', 1),\n",
       " ('17x59z', 1)]"
      ]
     },
     "execution_count": 21,
     "metadata": {},
     "output_type": "execute_result"
    }
   ],
   "source": [
    "get_frequent_words(emails_easy_spam.data, \"uncommon\", 20)"
   ]
  },
  {
   "cell_type": "code",
   "execution_count": 22,
   "id": "f593f433",
   "metadata": {},
   "outputs": [
    {
     "data": {
      "text/plain": [
       "[('com', 117069),\n",
       " ('to', 94912),\n",
       " ('the', 89871),\n",
       " ('from', 77383),\n",
       " ('2002', 74106),\n",
       " ('net', 64461),\n",
       " ('for', 60798),\n",
       " ('with', 58247),\n",
       " ('by', 58003),\n",
       " ('3d', 55366),\n",
       " ('org', 53793),\n",
       " ('font', 53452),\n",
       " ('localhost', 51206),\n",
       " ('id', 50695),\n",
       " ('received', 49272),\n",
       " ('of', 47154),\n",
       " ('and', 46951),\n",
       " ('11', 40124),\n",
       " ('list', 39823),\n",
       " ('http', 35410)]"
      ]
     },
     "execution_count": 22,
     "metadata": {},
     "output_type": "execute_result"
    }
   ],
   "source": [
    "get_frequent_words(emails_easy_spam.data, \"common\", 20)"
   ]
  },
  {
   "cell_type": "markdown",
   "id": "39cd4458",
   "metadata": {},
   "source": [
    "The most uncommon words were strings of numbers and letters i.e. meaningless words. Some most common words were com and net which could indicate the presence of links in the emails."
   ]
  },
  {
   "cell_type": "markdown",
   "id": "9ce029be",
   "metadata": {},
   "source": [
    "### b. Use the parameters in Sklearn’s CountVectorizer to filter out these words. Run the updated program on your data and record how the results differ from 3. You have two options to do this in Sklearn: either using the words found in part (a) or letting Sklearn do it for you"
   ]
  },
  {
   "cell_type": "code",
   "execution_count": 23,
   "id": "0f1b53a7",
   "metadata": {},
   "outputs": [],
   "source": [
    "def run_naiveBayes_2(ham_train, ham_test, spam_train, spam_test,model_name):\n",
    "    if model_name == \"MultinomialNB\":\n",
    "        # Transform the data into vectors with CountVectorizer\n",
    "        CV = CountVectorizer(max_df = 0.7, min_df = 0)\n",
    "        x_train = CV.fit_transform(ham_train)\n",
    "        x_test = CV.transform(ham_test)\n",
    "        y_train = spam_train.astype(\"int\")\n",
    "\n",
    "        # Train the MultinomialNB classifier\n",
    "        model = MultinomialNB().fit(x_train, y_train)\n",
    "            \n",
    "    elif model_name == \"BernoulliNB\":\n",
    "        # Transform the data into vectors with CountVectorizer with binary = True\n",
    "        CV = CountVectorizer(binary = True, max_df = 0.7, min_df = 0)\n",
    "        x_train = CV.fit_transform(ham_train)\n",
    "        x_test = CV.transform(ham_test)\n",
    "        y_train = spam_train.astype(\"int\")\n",
    "        \n",
    "        # Train the BernouilliNB classifier\n",
    "        model = BernoulliNB().fit(x_train, y_train)\n",
    "\n",
    "    # predict spam or ham\n",
    "    y_pred = model.predict(x_test)\n",
    "    # calculate accuracy score\n",
    "    acc = accuracy_score(spam_test, y_pred)\n",
    "    # create confusion matrix\n",
    "    cm = confusion_matrix(spam_test, y_pred)\n",
    "    # create classification report\n",
    "    cr = classification_report(spam_test,y_pred)\n",
    "\n",
    "    return acc, cm, cr"
   ]
  },
  {
   "cell_type": "markdown",
   "id": "089b3ad7",
   "metadata": {},
   "source": [
    "### i. Spam versus easy-ham"
   ]
  },
  {
   "cell_type": "markdown",
   "id": "22184cee",
   "metadata": {},
   "source": [
    "#### Multinomial Naive Bayes"
   ]
  },
  {
   "cell_type": "code",
   "execution_count": 24,
   "id": "c54688f8",
   "metadata": {},
   "outputs": [],
   "source": [
    "acc_easy_mnb_2, cfm_easy_mnb_2, cr_easy_mnb_2 = run_naiveBayes_2(x_easy_spam_train, x_easy_spam_test, y_easy_spam_train, y_easy_spam_test, \"MultinomialNB\")"
   ]
  },
  {
   "cell_type": "code",
   "execution_count": 25,
   "id": "68132b1a",
   "metadata": {},
   "outputs": [
    {
     "data": {
      "image/png": "[encoded data removed]",
      "text/plain": [
       "<Figure size 1080x720 with 2 Axes>"
      ]
     },
     "metadata": {
      "needs_background": "light"
     },
     "output_type": "display_data"
    }
   ],
   "source": [
    "plot_cfm(cfm_easy_mnb_2, acc_easy_mnb_2, \"Multinomial Naive Bayes\", [\"Easy Ham\", \"Spam\"])"
   ]
  },
  {
   "cell_type": "code",
   "execution_count": 26,
   "id": "63ffc446",
   "metadata": {},
   "outputs": [
    {
     "name": "stdout",
     "output_type": "stream",
     "text": [
      "              precision    recall  f1-score   support\n",
      "\n",
      "           0       0.98      1.00      0.99      1305\n",
      "           1       1.00      0.94      0.97       466\n",
      "\n",
      "    accuracy                           0.98      1771\n",
      "   macro avg       0.99      0.97      0.98      1771\n",
      "weighted avg       0.98      0.98      0.98      1771\n",
      "\n"
     ]
    }
   ],
   "source": [
    "print(cr_easy_mnb_2)"
   ]
  },
  {
   "cell_type": "markdown",
   "id": "645acaf7",
   "metadata": {},
   "source": [
    "With the Multinomial Naive Bayes classifier, we obtained an accuracy of 0.98 when classifying easy ham and spam.  We consider the precision and recall for the positive class, i.e. spam. The precision is at 1.00, which means it has no false positives that are actual hams are classified as spams. The model has lower recall which means that it has more false negatives(FN = 30), i.e. spams are misclassified as hams. "
   ]
  },
  {
   "cell_type": "markdown",
   "id": "0fb359ae",
   "metadata": {},
   "source": [
    "#### Bernouilli Naive Bayes\n"
   ]
  },
  {
   "cell_type": "code",
   "execution_count": 27,
   "id": "b36ea21d",
   "metadata": {},
   "outputs": [],
   "source": [
    "acc_easy_bnb_2, cfm_easy_bnb_2, cr_easy_bnb_2 = run_naiveBayes_2(x_easy_spam_train, x_easy_spam_test, y_easy_spam_train, y_easy_spam_test, \"BernoulliNB\")"
   ]
  },
  {
   "cell_type": "code",
   "execution_count": 28,
   "id": "1e3d368a",
   "metadata": {},
   "outputs": [
    {
     "data": {
      "image/png": "[encoded data removed]",
      "text/plain": [
       "<Figure size 1080x720 with 2 Axes>"
      ]
     },
     "metadata": {
      "needs_background": "light"
     },
     "output_type": "display_data"
    }
   ],
   "source": [
    "plot_cfm(cfm_easy_bnb_2, acc_easy_bnb_2, \"Bernouilli Naive Bayes\", [\"Easy Ham\", \"Spam\"])"
   ]
  },
  {
   "cell_type": "code",
   "execution_count": 29,
   "id": "066205a7",
   "metadata": {},
   "outputs": [
    {
     "name": "stdout",
     "output_type": "stream",
     "text": [
      "              precision    recall  f1-score   support\n",
      "\n",
      "           0       0.94      1.00      0.97      1305\n",
      "           1       1.00      0.81      0.90       466\n",
      "\n",
      "    accuracy                           0.95      1771\n",
      "   macro avg       0.97      0.91      0.93      1771\n",
      "weighted avg       0.95      0.95      0.95      1771\n",
      "\n"
     ]
    }
   ],
   "source": [
    "print(cr_easy_bnb_2)"
   ]
  },
  {
   "cell_type": "markdown",
   "id": "d0207a9e",
   "metadata": {},
   "source": [
    "Despite having a relatively high accuracy (0.95), the Bernoulli NB classifier has a relatively low recall for the positive class, i.e. spam; that is, it has a high number of false-negative (FN = 87), i.e. spams are misclassified as easy hams."
   ]
  },
  {
   "cell_type": "markdown",
   "id": "a78ad573",
   "metadata": {},
   "source": [
    "### ii Spam versus hard-ham"
   ]
  },
  {
   "cell_type": "markdown",
   "id": "7b1099da",
   "metadata": {},
   "source": [
    "#### Multinomial Naive Bayes"
   ]
  },
  {
   "cell_type": "code",
   "execution_count": 30,
   "id": "a3013da0",
   "metadata": {},
   "outputs": [],
   "source": [
    "acc_hard_mnb_2, cfm_hard_mnb_2, cr_hard_mnb_2 = run_naiveBayes_2(x_hard_spam_train, x_hard_spam_test, y_hard_spam_train, y_hard_spam_test, \"MultinomialNB\")"
   ]
  },
  {
   "cell_type": "code",
   "execution_count": 31,
   "id": "7522ea72",
   "metadata": {},
   "outputs": [
    {
     "data": {
      "image/png": "[encoded data removed]",
      "text/plain": [
       "<Figure size 1080x720 with 2 Axes>"
      ]
     },
     "metadata": {
      "needs_background": "light"
     },
     "output_type": "display_data"
    }
   ],
   "source": [
    "plot_cfm(cfm_hard_mnb_2, acc_hard_mnb_2, \"Multinomial Naive Bayes\", [\"Hard Ham\", \"Spam\"])"
   ]
  },
  {
   "cell_type": "code",
   "execution_count": 32,
   "id": "9a1d9923",
   "metadata": {},
   "outputs": [
    {
     "name": "stdout",
     "output_type": "stream",
     "text": [
      "              precision    recall  f1-score   support\n",
      "\n",
      "           0       0.93      0.83      0.88       101\n",
      "           1       0.97      0.99      0.98       479\n",
      "\n",
      "    accuracy                           0.96       580\n",
      "   macro avg       0.95      0.91      0.93       580\n",
      "weighted avg       0.96      0.96      0.96       580\n",
      "\n"
     ]
    }
   ],
   "source": [
    "print(cr_hard_mnb_2)"
   ]
  },
  {
   "cell_type": "markdown",
   "id": "a6142d4b",
   "metadata": {},
   "source": [
    "Multinomial Naive Bayes performs well accuracy wise (0.96) and has both precision and recall close to 1, which is the ideal scenario in the classification of hard ham and spam. This time the accuracy score is closer to the f1-score (or precision/recall) since the dataset is less imbalanced than easy ham and spam."
   ]
  },
  {
   "cell_type": "markdown",
   "id": "c92275da",
   "metadata": {},
   "source": [
    "#### Bernoulli Naive Bayes"
   ]
  },
  {
   "cell_type": "code",
   "execution_count": 33,
   "id": "76918a1a",
   "metadata": {},
   "outputs": [],
   "source": [
    "acc_hard_bnb_2, cfm_hard_bnb_2, cr_hard_bnb_2 = run_naiveBayes_2(x_hard_spam_train, x_hard_spam_test, y_hard_spam_train, y_hard_spam_test, \"BernoulliNB\")"
   ]
  },
  {
   "cell_type": "code",
   "execution_count": 34,
   "id": "682a6097",
   "metadata": {},
   "outputs": [
    {
     "data": {
      "image/png": "[encoded data removed]",
      "text/plain": [
       "<Figure size 1080x720 with 2 Axes>"
      ]
     },
     "metadata": {
      "needs_background": "light"
     },
     "output_type": "display_data"
    }
   ],
   "source": [
    "plot_cfm(cfm_hard_bnb_2, acc_hard_bnb_2, \"Bernoulli Naive Bayes\", [\"Hard Ham\", \"Spam\"])"
   ]
  },
  {
   "cell_type": "code",
   "execution_count": 35,
   "id": "aff715fc",
   "metadata": {},
   "outputs": [
    {
     "name": "stdout",
     "output_type": "stream",
     "text": [
      "              precision    recall  f1-score   support\n",
      "\n",
      "           0       0.89      0.70      0.78       101\n",
      "           1       0.94      0.98      0.96       479\n",
      "\n",
      "    accuracy                           0.93       580\n",
      "   macro avg       0.91      0.84      0.87       580\n",
      "weighted avg       0.93      0.93      0.93       580\n",
      "\n"
     ]
    }
   ],
   "source": [
    "print(cr_hard_bnb_2)"
   ]
  },
  {
   "cell_type": "markdown",
   "id": "4ccd9bde",
   "metadata": {},
   "source": [
    "Bernoulli NB has an accuracy of 0.93 in hard ham and spam classification. The model has a very high recall and lower precision, meaning it has more false positives, i.e. it misclassifies hard hams as spams."
   ]
  },
  {
   "cell_type": "markdown",
   "id": "b30e33ba",
   "metadata": {},
   "source": [
    "<table class=\"tg\">\n",
    "<thead>\n",
    "  <tr>\n",
    "    <th class=\"tg-0lax\" rowspan=\"3\">Classifier</th>\n",
    "    <th class=\"tg-0lax\" rowspan=\"3\">Ham Type</th>\n",
    "    <th class=\"tg-0lax\" colspan=\"7\">Part 4</th>\n",
    "  </tr>\n",
    "  <tr>\n",
    "    <th class=\"tg-0lax\" rowspan=\"2\">accuracy</th>\n",
    "    <th class=\"tg-0lax\" colspan=\"2\">precision</th>\n",
    "    <th class=\"tg-0lax\" colspan=\"2\">recall</th>\n",
    "    <th class=\"tg-0lax\" colspan=\"2\">f1-score</th>\n",
    "  </tr>\n",
    "  <tr>\n",
    "    <th class=\"tg-0lax\">0</th>\n",
    "    <th class=\"tg-0lax\">1</th>\n",
    "    <th class=\"tg-0lax\">0</th>\n",
    "    <th class=\"tg-0lax\">1</th>\n",
    "    <th class=\"tg-0lax\">0</th>\n",
    "    <th class=\"tg-0lax\">1</th>\n",
    "  </tr>\n",
    "</thread>\n",
    "<tbody>\n",
    "  <tr>\n",
    "    <td class=\"tg-0lax\" rowspan=\"2\">Multinomial Naive Bayes</td>\n",
    "    <td class=\"tg-0lax\">Easy</td>\n",
    "    <td class=\"tg-0lax\">0.98</td>\n",
    "    <td class=\"tg-0lax\">0.98</td>\n",
    "    <td class=\"tg-0lax\">1.00</td>\n",
    "    <td class=\"tg-0lax\">1.00</td>\n",
    "    <td class=\"tg-0lax\">0.94</td>\n",
    "    <td class=\"tg-0lax\">0.99</td>\n",
    "    <td class=\"tg-0lax\">0.97</td>\n",
    "  </tr>\n",
    "  <tr>\n",
    "    <td class=\"tg-0lax\">Hard</td>\n",
    "    <td class=\"tg-0lax\">0.96</td>\n",
    "    <td class=\"tg-0lax\">0.93</td>\n",
    "    <td class=\"tg-0lax\">0.97</td>\n",
    "    <td class=\"tg-0lax\">0.83</td>\n",
    "    <td class=\"tg-0lax\">0.99</td>\n",
    "    <td class=\"tg-0lax\">0.88</td>\n",
    "    <td class=\"tg-0lax\">0.98</td>\n",
    "  </tr>\n",
    "  <tr>\n",
    "    <td class=\"tg-0lax\" rowspan=\"2\">Bernoulli Naive Bayes</td>\n",
    "    <td class=\"tg-0lax\">Easy</td>\n",
    "    <td class=\"tg-0lax\">0.95</td>\n",
    "    <td class=\"tg-0lax\">0.94</td>\n",
    "    <td class=\"tg-0lax\">1.00</td>\n",
    "    <td class=\"tg-0lax\">1.00</td>\n",
    "    <td class=\"tg-0lax\">0.81</td>\n",
    "    <td class=\"tg-0lax\">0.97</td>\n",
    "    <td class=\"tg-0lax\">0.98</td>\n",
    "  </tr>\n",
    "  <tr>\n",
    "    <td class=\"tg-0lax\">Hard</td>\n",
    "    <td class=\"tg-0lax\">0.93</td>\n",
    "    <td class=\"tg-0lax\">0.89</td>\n",
    "    <td class=\"tg-0lax\">0.94</td>\n",
    "    <td class=\"tg-0lax\">0.70</td>\n",
    "    <td class=\"tg-0lax\">0.98</td>\n",
    "    <td class=\"tg-0lax\">0.78</td>\n",
    "    <td class=\"tg-0lax\">0.96</td>\n",
    "  </tr>\n",
    "</tbody>\n",
    "</table>"
   ]
  },
  {
   "cell_type": "markdown",
   "id": "c1d35f71",
   "metadata": {},
   "source": [
    "Similar to part 3, Multinomial Naive Bayes overall performs better than Bernoulli Naive Bayes in classifying easy ham and hard ham versus spam."
   ]
  },
  {
   "cell_type": "markdown",
   "id": "9a004673",
   "metadata": {},
   "source": [
    "<table class=\"tg\">\n",
    "<thead>\n",
    "  <tr>\n",
    "    <th class=\"tg-0lax\" rowspan=\"3\">Classifier</th>\n",
    "    <th class=\"tg-0lax\" rowspan=\"3\">Ham Type</th>\n",
    "    <th class=\"tg-0lax\" colspan=\"7\">Part 3</th>\n",
    "  </tr>\n",
    "  <tr>\n",
    "    <th class=\"tg-0lax\" rowspan=\"2\">accuracy</th>\n",
    "    <th class=\"tg-0lax\" colspan=\"2\">precision</th>\n",
    "    <th class=\"tg-0lax\" colspan=\"2\">recall</th>\n",
    "    <th class=\"tg-0lax\" colspan=\"2\">f1-score</th>\n",
    "  </tr>\n",
    "  <tr>\n",
    "    <th class=\"tg-0lax\">0</th>\n",
    "    <th class=\"tg-0lax\">1</th>\n",
    "    <th class=\"tg-0lax\">0</th>\n",
    "    <th class=\"tg-0lax\">1</th>\n",
    "    <th class=\"tg-0lax\">0</th>\n",
    "    <th class=\"tg-0lax\">1</th>\n",
    "  </tr>\n",
    "</thead>\n",
    "<tbody>\n",
    "  <tr>\n",
    "    <td class=\"tg-0lax\" rowspan=\"2\">Multinomial Naive Bayes</td>\n",
    "    <td class=\"tg-0lax\">Easy</td>\n",
    "    <td class=\"tg-0lax\">0.97</td>\n",
    "    <td class=\"tg-0lax\">0.97</td>\n",
    "    <td class=\"tg-0lax\">1.00</td>\n",
    "    <td class=\"tg-0lax\">1.00</td>\n",
    "    <td class=\"tg-0lax\">0.90</td>\n",
    "    <td class=\"tg-0lax\">0.98</td>\n",
    "    <td class=\"tg-0lax\">0.95</td>\n",
    "  </tr>\n",
    "  <tr>\n",
    "    <td class=\"tg-0lax\">Hard</td>\n",
    "    <td class=\"tg-0lax\">0.95</td>\n",
    "    <td class=\"tg-0lax\">0.93</td>\n",
    "    <td class=\"tg-0lax\">0.95</td>\n",
    "    <td class=\"tg-0lax\">0.77</td>\n",
    "    <td class=\"tg-0lax\">0.99</td>\n",
    "    <td class=\"tg-0lax\">0.84</td>\n",
    "    <td class=\"tg-0lax\">0.97</td>\n",
    "  </tr>\n",
    "  <tr>\n",
    "    <td class=\"tg-0lax\" rowspan=\"2\">Bernoulli Naive Bayes</td>\n",
    "    <td class=\"tg-0lax\">Easy</td>\n",
    "    <td class=\"tg-0lax\">0.96</td>\n",
    "    <td class=\"tg-0lax\">0.95</td>\n",
    "    <td class=\"tg-0lax\">1.00</td>\n",
    "    <td class=\"tg-0lax\">1.00</td>\n",
    "    <td class=\"tg-0lax\">0.85</td>\n",
    "    <td class=\"tg-0lax\">0.97</td>\n",
    "    <td class=\"tg-0lax\">0.92</td>\n",
    "  </tr>\n",
    "  <tr>\n",
    "    <td class=\"tg-0lax\">Hard</td>\n",
    "    <td class=\"tg-0lax\">0.93</td>\n",
    "    <td class=\"tg-0lax\">0.89</td>\n",
    "    <td class=\"tg-0lax\">0.94</td>\n",
    "    <td class=\"tg-0lax\">0.70</td>\n",
    "    <td class=\"tg-0lax\">0.98</td>\n",
    "    <td class=\"tg-0lax\">0.78</td>\n",
    "    <td class=\"tg-0lax\">0.96</td>\n",
    "  </tr>\n",
    "</tbody>\n",
    "</table>"
   ]
  },
  {
   "cell_type": "markdown",
   "id": "4d80f857",
   "metadata": {},
   "source": [
    "When comparing the precision and recall values of the models for the positive class, i.e. spam, we can see that the model improves from parts 3 to 4 for Multinomial Naive Bayes. However, the Bernoulli Naive Bayes model for easy hamps and spams has a slightly worse recall score in part 4 after removing the stopwords."
   ]
  },
  {
   "cell_type": "markdown",
   "id": "469ea39d",
   "metadata": {},
   "source": [
    "## 5.\t[For higher grades] Filter out the headers and the footers of the emails before you run on them. The format may vary somewhat between emails, which can make this a bit tricky, so perfect filtering is not required. Run your program again and answer the following questions:"
   ]
  },
  {
   "cell_type": "markdown",
   "id": "099d798d",
   "metadata": {},
   "source": [
    "    We use this package from python to deal with emails (https://docs.python.org/3/library/email.message.html)"
   ]
  },
  {
   "cell_type": "code",
   "execution_count": 36,
   "id": "4c7b20c1",
   "metadata": {},
   "outputs": [],
   "source": [
    "# function to get the body of the email in text by inputing email object\n",
    "def get_email_body(emailobj):\n",
    "    # if email is not multipart, return just just regular payload \n",
    "    # else return the first text/plain body\n",
    "    \n",
    "    if not emailobj.is_multipart():\n",
    "        return emailobj.get_payload()\n",
    "    \n",
    "    for payload in emailobj.get_payload():\n",
    "        # If the message comes with a signature it can be that this\n",
    "        # payload itself has multiple parts, so just return the\n",
    "        # first one\n",
    "        if payload.is_multipart():\n",
    "            return get_email_body(payload)\n",
    "        \n",
    "        body = payload.get_payload()\n",
    "        \n",
    "        if payload.get_content_type() == \"text/plain\":\n",
    "            return body"
   ]
  },
  {
   "cell_type": "markdown",
   "id": "45616fd7",
   "metadata": {},
   "source": [
    "### Easy ham vs spam data"
   ]
  },
  {
   "cell_type": "code",
   "execution_count": 37,
   "id": "4264df42",
   "metadata": {},
   "outputs": [],
   "source": [
    "# parse the emails into a list email objects\n",
    "emails = list(map(email.message_from_string, emails_easy_spam.data))"
   ]
  },
  {
   "cell_type": "code",
   "execution_count": 38,
   "id": "0d263ae3",
   "metadata": {},
   "outputs": [],
   "source": [
    "# extract the body of all emails\n",
    "body_easy_spam = [get_email_body(msg) for msg in emails]"
   ]
  },
  {
   "cell_type": "markdown",
   "id": "864a9b43",
   "metadata": {},
   "source": [
    "### Hard ham vs spam data"
   ]
  },
  {
   "cell_type": "code",
   "execution_count": 39,
   "id": "307c3937",
   "metadata": {},
   "outputs": [],
   "source": [
    "# parse the emails into a list email objects\n",
    "emails = list(map(email.message_from_string, emails_hard_spam.data))"
   ]
  },
  {
   "cell_type": "code",
   "execution_count": 40,
   "id": "ee128570",
   "metadata": {},
   "outputs": [],
   "source": [
    "# extract the body of all emails\n",
    "body_hard_spam = [get_email_body(msg) for msg in emails]"
   ]
  },
  {
   "cell_type": "markdown",
   "id": "b72afb20",
   "metadata": {},
   "source": [
    "When we filter out the headers and footers, we obtain some NoneType objects, hence we convert the filtered data into dataframes along with the targets so that we can drop those rows"
   ]
  },
  {
   "cell_type": "code",
   "execution_count": 41,
   "id": "645a1cd9",
   "metadata": {},
   "outputs": [],
   "source": [
    "# assign data of lists.  \n",
    "data_easy = {\"emails\": body_easy_spam, \"target\": emails_easy_spam.target}  \n",
    "data_hard = {\"emails\": body_hard_spam, \"target\": emails_hard_spam.target}  \n",
    "\n",
    "# create DataFrame  \n",
    "df_easy_spam = pd.DataFrame(data_easy)\n",
    "df_hard_spam = pd.DataFrame(data_hard)\n",
    "\n",
    "# drop rows with Nan\n",
    "df_easy_spam.dropna(inplace = True)\n",
    "df_hard_spam.dropna(inplace = True)"
   ]
  },
  {
   "cell_type": "code",
   "execution_count": 42,
   "id": "e1430c2a",
   "metadata": {},
   "outputs": [],
   "source": [
    "# split the spam and the ham datasets in a training set and a test set.\n",
    "x_easy_spam_train_filtered, x_easy_spam_test_filtered, y_easy_spam_train_filtered, y_easy_spam_test_filtered = train_test_split(df_easy_spam[\"emails\"], df_easy_spam[\"target\"], test_size = 0.2, random_state = 0)\n",
    "x_hard_spam_train_filtered, x_hard_spam_test_filtered, y_hard_spam_train_filtered, y_hard_spam_test_filtered = train_test_split(df_hard_spam[\"emails\"], df_hard_spam[\"target\"], test_size = 0.2, random_state = 0)"
   ]
  },
  {
   "cell_type": "markdown",
   "id": "cd6a4574",
   "metadata": {},
   "source": [
    "### i.\tSpam versus easy-ham"
   ]
  },
  {
   "cell_type": "markdown",
   "id": "095b08a0",
   "metadata": {},
   "source": [
    "#### Multinomial Naive Bayes"
   ]
  },
  {
   "cell_type": "code",
   "execution_count": 43,
   "id": "ca93a96a",
   "metadata": {},
   "outputs": [],
   "source": [
    "acc_easy_mnb_3, cfm_easy_mnb_3, cr_easy_mnb_3 = run_naiveBayes(x_easy_spam_train_filtered, x_easy_spam_test_filtered, y_easy_spam_train_filtered, y_easy_spam_test_filtered, \"MultinomialNB\")"
   ]
  },
  {
   "cell_type": "code",
   "execution_count": 44,
   "id": "fed2316b",
   "metadata": {},
   "outputs": [
    {
     "data": {
      "image/png": "[encoded data removed]",
      "text/plain": [
       "<Figure size 1080x720 with 2 Axes>"
      ]
     },
     "metadata": {
      "needs_background": "light"
     },
     "output_type": "display_data"
    }
   ],
   "source": [
    "plot_cfm(cfm_easy_mnb_3, acc_easy_mnb_3, \"Multinomial Naive Bayes\", [\"Easy Ham\", \"Spam\"])"
   ]
  },
  {
   "cell_type": "code",
   "execution_count": 45,
   "id": "0222578d",
   "metadata": {},
   "outputs": [
    {
     "name": "stdout",
     "output_type": "stream",
     "text": [
      "              precision    recall  f1-score   support\n",
      "\n",
      "           0       0.97      1.00      0.98      1288\n",
      "           1       1.00      0.90      0.95       462\n",
      "\n",
      "    accuracy                           0.97      1750\n",
      "   macro avg       0.98      0.95      0.97      1750\n",
      "weighted avg       0.97      0.97      0.97      1750\n",
      "\n"
     ]
    }
   ],
   "source": [
    "print(cr_easy_mnb_3)"
   ]
  },
  {
   "cell_type": "markdown",
   "id": "78d35eaa",
   "metadata": {},
   "source": [
    "We obtained an accuracy of 0.97 when classifying easy ham and spam using the Multinomial Naive Bayes classifier. Like before we consider the precision and recall for the positive class, i.e. spam. The precision is 1.00, which means it has no false positives i.e. actual hams classified as spams. The model has lower recall which means that it has more false negatives(FN = 46), i.e. spams are misclassified as hams."
   ]
  },
  {
   "cell_type": "markdown",
   "id": "8cbd5db4",
   "metadata": {},
   "source": [
    "#### Bernoulli Naive Bayes"
   ]
  },
  {
   "cell_type": "code",
   "execution_count": 46,
   "id": "199c97c9",
   "metadata": {},
   "outputs": [],
   "source": [
    "acc_easy_bnb_3, cfm_easy_bnb_3, cr_easy_bnb_3 = run_naiveBayes(x_easy_spam_train_filtered, x_easy_spam_test_filtered, y_easy_spam_train_filtered, y_easy_spam_test_filtered, \"BernoulliNB\")"
   ]
  },
  {
   "cell_type": "code",
   "execution_count": 47,
   "id": "fb287350",
   "metadata": {},
   "outputs": [
    {
     "data": {
      "image/png": "[encoded data removed]",
      "text/plain": [
       "<Figure size 1080x720 with 2 Axes>"
      ]
     },
     "metadata": {
      "needs_background": "light"
     },
     "output_type": "display_data"
    }
   ],
   "source": [
    "plot_cfm(cfm_easy_bnb_3, acc_easy_bnb_3, \"Bernoulli Naive Bayes\", [\"Easy Ham\", \"Spam\"])"
   ]
  },
  {
   "cell_type": "code",
   "execution_count": 48,
   "id": "4263e76c",
   "metadata": {},
   "outputs": [
    {
     "name": "stdout",
     "output_type": "stream",
     "text": [
      "              precision    recall  f1-score   support\n",
      "\n",
      "           0       0.91      0.99      0.95      1288\n",
      "           1       0.98      0.71      0.82       462\n",
      "\n",
      "    accuracy                           0.92      1750\n",
      "   macro avg       0.94      0.85      0.89      1750\n",
      "weighted avg       0.93      0.92      0.92      1750\n",
      "\n"
     ]
    }
   ],
   "source": [
    "print(cr_easy_bnb_3)"
   ]
  },
  {
   "cell_type": "markdown",
   "id": "16817ea0",
   "metadata": {},
   "source": [
    "Despite having a relatively high accuracy (0.92), the Bernoulli NB classifier has a relatively low recall for the positive class, i.e. spam; that is, it has a high number of false-negative (FN = 133), i.e. spams are misclassified as easy hams."
   ]
  },
  {
   "cell_type": "markdown",
   "id": "58ec3b34",
   "metadata": {},
   "source": [
    "### ii Spam versus hard-ham"
   ]
  },
  {
   "cell_type": "markdown",
   "id": "0a97fdd3",
   "metadata": {},
   "source": [
    "#### Multinomial Naive Bayes"
   ]
  },
  {
   "cell_type": "code",
   "execution_count": 49,
   "id": "9dfde7dc",
   "metadata": {},
   "outputs": [],
   "source": [
    "acc_hard_mnb_3, cfm_hard_mnb_3, cr_hard_mnb_3 = run_naiveBayes(x_hard_spam_train_filtered, x_hard_spam_test_filtered, y_hard_spam_train_filtered, y_hard_spam_test_filtered, \"MultinomialNB\")"
   ]
  },
  {
   "cell_type": "code",
   "execution_count": 50,
   "id": "2f101618",
   "metadata": {},
   "outputs": [
    {
     "data": {
      "image/png": "[encoded data removed]",
      "text/plain": [
       "<Figure size 1080x720 with 2 Axes>"
      ]
     },
     "metadata": {
      "needs_background": "light"
     },
     "output_type": "display_data"
    }
   ],
   "source": [
    "plot_cfm(cfm_hard_mnb_3, acc_hard_mnb_3, \"Multinomial Naive Bayes\", [\"Hard Ham\", \"Spam\"])"
   ]
  },
  {
   "cell_type": "code",
   "execution_count": 51,
   "id": "ba49b7e8",
   "metadata": {},
   "outputs": [
    {
     "name": "stdout",
     "output_type": "stream",
     "text": [
      "              precision    recall  f1-score   support\n",
      "\n",
      "           0       0.90      0.83      0.87       102\n",
      "           1       0.96      0.98      0.97       457\n",
      "\n",
      "    accuracy                           0.95       559\n",
      "   macro avg       0.93      0.91      0.92       559\n",
      "weighted avg       0.95      0.95      0.95       559\n",
      "\n"
     ]
    }
   ],
   "source": [
    "print(cr_hard_mnb_3)"
   ]
  },
  {
   "cell_type": "markdown",
   "id": "ca3ba8c1",
   "metadata": {},
   "source": [
    "Multinomial Naive Bayes performs well accuracy wise(0.95) and has both precision and recall close to 1, which is the ideal scenario in the classification of hard ham and spam. As seen before since the dataset is less imbalanced than easy ham and spam, the accuracy score is closer to the f1-score (or precision/recall) ."
   ]
  },
  {
   "cell_type": "markdown",
   "id": "448435e0",
   "metadata": {},
   "source": [
    "#### Bernoulli Naive Bayes"
   ]
  },
  {
   "cell_type": "code",
   "execution_count": 52,
   "id": "53aff7e8",
   "metadata": {},
   "outputs": [],
   "source": [
    "acc_hard_bnb_3, cfm_hard_bnb_3, cr_hard_bnb_3 = run_naiveBayes(x_hard_spam_train_filtered, x_hard_spam_test_filtered, y_hard_spam_train_filtered, y_hard_spam_test_filtered,\"BernoulliNB\")"
   ]
  },
  {
   "cell_type": "code",
   "execution_count": 53,
   "id": "b8130572",
   "metadata": {},
   "outputs": [
    {
     "data": {
      "image/png": "[encoded data removed]",
      "text/plain": [
       "<Figure size 1080x720 with 2 Axes>"
      ]
     },
     "metadata": {
      "needs_background": "light"
     },
     "output_type": "display_data"
    }
   ],
   "source": [
    "plot_cfm(cfm_hard_bnb_3, acc_hard_bnb_3, \"Bernoulli Naive Bayes\", [\"Hard Ham\", \"Spam\"])"
   ]
  },
  {
   "cell_type": "code",
   "execution_count": 54,
   "id": "ef5bed8e",
   "metadata": {},
   "outputs": [
    {
     "name": "stdout",
     "output_type": "stream",
     "text": [
      "              precision    recall  f1-score   support\n",
      "\n",
      "           0       0.86      0.63      0.73       102\n",
      "           1       0.92      0.98      0.95       457\n",
      "\n",
      "    accuracy                           0.91       559\n",
      "   macro avg       0.89      0.80      0.84       559\n",
      "weighted avg       0.91      0.91      0.91       559\n",
      "\n"
     ]
    }
   ],
   "source": [
    "print(cr_hard_bnb_3)"
   ]
  },
  {
   "cell_type": "markdown",
   "id": "65f1fd01",
   "metadata": {},
   "source": [
    "Bernoulli NB has an accuracy of 0.91 in hard ham and spam classification. The model has a very high recall and lower precision, meaning it has more false positives, i.e. it misclassifies hard hams as spams. "
   ]
  },
  {
   "cell_type": "markdown",
   "id": "bdd987a8",
   "metadata": {},
   "source": [
    "Again, overall, Multinomial Naive Bayes performs better than  Bernoulli Naive Bayes in classifying easy ham and hard ham versus spam."
   ]
  },
  {
   "cell_type": "markdown",
   "id": "5b6e332e",
   "metadata": {},
   "source": [
    "### a. Does the result improve from 3 and 4?"
   ]
  },
  {
   "cell_type": "markdown",
   "id": "25c9ee28",
   "metadata": {},
   "source": [
    "<table class=\"tg\">\n",
    "<thead>\n",
    "  <tr>\n",
    "    <th class=\"tg-0lax\" rowspan=\"3\">Classifier</th>\n",
    "    <th class=\"tg-0lax\" rowspan=\"3\">Ham Type</th>\n",
    "    <th class=\"tg-0lax\" colspan=\"7\">Part 3</th>\n",
    "  </tr>\n",
    "  <tr>\n",
    "    <th class=\"tg-0lax\" rowspan=\"2\">accuracy</th>\n",
    "    <th class=\"tg-0lax\" colspan=\"2\">precision</th>\n",
    "    <th class=\"tg-0lax\" colspan=\"2\">recall</th>\n",
    "    <th class=\"tg-0lax\" colspan=\"2\">f1-score</th>\n",
    "  </tr>\n",
    "  <tr>\n",
    "    <th class=\"tg-0lax\">0</th>\n",
    "    <th class=\"tg-0lax\">1</th>\n",
    "    <th class=\"tg-0lax\">0</th>\n",
    "    <th class=\"tg-0lax\">1</th>\n",
    "    <th class=\"tg-0lax\">0</th>\n",
    "    <th class=\"tg-0lax\">1</th>\n",
    "  </tr>\n",
    "</thead>\n",
    "<tbody>\n",
    "  <tr>\n",
    "    <td class=\"tg-0lax\" rowspan=\"2\">Multinomial Naive Bayes</td>\n",
    "    <td class=\"tg-0lax\">Easy</td>\n",
    "    <td class=\"tg-0lax\">0.97</td>\n",
    "    <td class=\"tg-0lax\">0.97</td>\n",
    "    <td class=\"tg-0lax\">1.00</td>\n",
    "    <td class=\"tg-0lax\">1.00</td>\n",
    "    <td class=\"tg-0lax\">0.90</td>\n",
    "    <td class=\"tg-0lax\">0.98</td>\n",
    "    <td class=\"tg-0lax\">0.95</td>\n",
    "  </tr>\n",
    "  <tr>\n",
    "    <td class=\"tg-0lax\">Hard</td>\n",
    "    <td class=\"tg-0lax\">0.95</td>\n",
    "    <td class=\"tg-0lax\">0.93</td>\n",
    "    <td class=\"tg-0lax\">0.95</td>\n",
    "    <td class=\"tg-0lax\">0.77</td>\n",
    "    <td class=\"tg-0lax\">0.99</td>\n",
    "    <td class=\"tg-0lax\">0.84</td>\n",
    "    <td class=\"tg-0lax\">0.97</td>\n",
    "  </tr>\n",
    "  <tr>\n",
    "    <td class=\"tg-0lax\" rowspan=\"2\">Bernoulli Naive Bayes</td>\n",
    "    <td class=\"tg-0lax\">Easy</td>\n",
    "    <td class=\"tg-0lax\">0.96</td>\n",
    "    <td class=\"tg-0lax\">0.95</td>\n",
    "    <td class=\"tg-0lax\">1.00</td>\n",
    "    <td class=\"tg-0lax\">1.00</td>\n",
    "    <td class=\"tg-0lax\">0.85</td>\n",
    "    <td class=\"tg-0lax\">0.97</td>\n",
    "    <td class=\"tg-0lax\">0.92</td>\n",
    "  </tr>\n",
    "  <tr>\n",
    "    <td class=\"tg-0lax\">Hard</td>\n",
    "    <td class=\"tg-0lax\">0.93</td>\n",
    "    <td class=\"tg-0lax\">0.89</td>\n",
    "    <td class=\"tg-0lax\">0.94</td>\n",
    "    <td class=\"tg-0lax\">0.70</td>\n",
    "    <td class=\"tg-0lax\">0.98</td>\n",
    "    <td class=\"tg-0lax\">0.78</td>\n",
    "    <td class=\"tg-0lax\">0.96</td>\n",
    "  </tr>\n",
    "</tbody>\n",
    "</table>"
   ]
  },
  {
   "cell_type": "markdown",
   "id": "9a755273",
   "metadata": {},
   "source": []
  },
  {
   "cell_type": "markdown",
   "id": "c5e0f220",
   "metadata": {},
   "source": [
    "<table class=\"tg\">\n",
    "<thead>\n",
    "  <tr>\n",
    "    <th class=\"tg-0lax\" rowspan=\"3\">Classifier</th>\n",
    "    <th class=\"tg-0lax\" rowspan=\"3\">Ham Type</th>\n",
    "    <th class=\"tg-0lax\" colspan=\"7\">Part 4</th>\n",
    "  </tr>\n",
    "  <tr>\n",
    "    <th class=\"tg-0lax\" rowspan=\"2\">accuracy</th>\n",
    "    <th class=\"tg-0lax\" colspan=\"2\">precision</th>\n",
    "    <th class=\"tg-0lax\" colspan=\"2\">recall</th>\n",
    "    <th class=\"tg-0lax\" colspan=\"2\">f1-score</th>\n",
    "  </tr>\n",
    "  <tr>\n",
    "    <th class=\"tg-0lax\">0</th>\n",
    "    <th class=\"tg-0lax\">1</th>\n",
    "    <th class=\"tg-0lax\">0</th>\n",
    "    <th class=\"tg-0lax\">1</th>\n",
    "    <th class=\"tg-0lax\">0</th>\n",
    "    <th class=\"tg-0lax\">1</th>\n",
    "  </tr>\n",
    "</thread>\n",
    "<tbody>\n",
    "  <tr>\n",
    "    <td class=\"tg-0lax\" rowspan=\"2\">Multinomial Naive Bayes</td>\n",
    "    <td class=\"tg-0lax\">Easy</td>\n",
    "    <td class=\"tg-0lax\">0.98</td>\n",
    "    <td class=\"tg-0lax\">0.98</td>\n",
    "    <td class=\"tg-0lax\">1.00</td>\n",
    "    <td class=\"tg-0lax\">1.00</td>\n",
    "    <td class=\"tg-0lax\">0.94</td>\n",
    "    <td class=\"tg-0lax\">0.99</td>\n",
    "    <td class=\"tg-0lax\">0.97</td>\n",
    "  </tr>\n",
    "  <tr>\n",
    "    <td class=\"tg-0lax\">Hard</td>\n",
    "    <td class=\"tg-0lax\">0.96</td>\n",
    "    <td class=\"tg-0lax\">0.93</td>\n",
    "    <td class=\"tg-0lax\">0.97</td>\n",
    "    <td class=\"tg-0lax\">0.83</td>\n",
    "    <td class=\"tg-0lax\">0.99</td>\n",
    "    <td class=\"tg-0lax\">0.88</td>\n",
    "    <td class=\"tg-0lax\">0.98</td>\n",
    "  </tr>\n",
    "  <tr>\n",
    "    <td class=\"tg-0lax\" rowspan=\"2\">Bernoulli Naive Bayes</td>\n",
    "    <td class=\"tg-0lax\">Easy</td>\n",
    "    <td class=\"tg-0lax\">0.95</td>\n",
    "    <td class=\"tg-0lax\">0.94</td>\n",
    "    <td class=\"tg-0lax\">1.00</td>\n",
    "    <td class=\"tg-0lax\">1.00</td>\n",
    "    <td class=\"tg-0lax\">0.81</td>\n",
    "    <td class=\"tg-0lax\">0.97</td>\n",
    "    <td class=\"tg-0lax\">0.98</td>\n",
    "  </tr>\n",
    "  <tr>\n",
    "    <td class=\"tg-0lax\">Hard</td>\n",
    "    <td class=\"tg-0lax\">0.93</td>\n",
    "    <td class=\"tg-0lax\">0.89</td>\n",
    "    <td class=\"tg-0lax\">0.94</td>\n",
    "    <td class=\"tg-0lax\">0.70</td>\n",
    "    <td class=\"tg-0lax\">0.98</td>\n",
    "    <td class=\"tg-0lax\">0.78</td>\n",
    "    <td class=\"tg-0lax\">0.96</td>\n",
    "  </tr>\n",
    "</tbody>\n",
    "</table>"
   ]
  },
  {
   "cell_type": "markdown",
   "id": "fc25c2ac",
   "metadata": {},
   "source": []
  },
  {
   "cell_type": "markdown",
   "id": "0bc6ecc9",
   "metadata": {},
   "source": [
    "<table>\n",
    "<thread>\n",
    "<tr>\n",
    "    <th class=\"tg-0lax\" rowspan=\"3\">Classifier</th>\n",
    "    <th class=\"tg-0lax\" rowspan=\"3\">Ham Type</th>\n",
    "    <th class=\"tg-0lax\" colspan=\"7\">Part 5</th>\n",
    "  </tr>\n",
    "  <tr>\n",
    "    <th class=\"tg-0lax\" rowspan=\"2\">accuracy</th>\n",
    "    <th class=\"tg-0lax\" colspan=\"2\">precision</th>\n",
    "    <th class=\"tg-0lax\" colspan=\"2\">recall</th>\n",
    "    <th class=\"tg-0lax\" colspan=\"2\">f1-score</th>\n",
    "  </tr>\n",
    "  <tr>\n",
    "    <th class=\"tg-0lax\">0</th>\n",
    "    <th class=\"tg-0lax\">1</th>\n",
    "    <th class=\"tg-0lax\">0</th>\n",
    "    <th class=\"tg-0lax\">1</th>\n",
    "    <th class=\"tg-0lax\">0</th>\n",
    "    <th class=\"tg-0lax\">1</th>\n",
    "  </tr>\n",
    "<thread>\n",
    "<tbody>\n",
    "  <tr>\n",
    "    <td class=\"tg-0lax\" rowspan=\"2\">Multinomial Naive Bayes</td>\n",
    "    <td class=\"tg-0lax\">Easy</td>\n",
    "    <td class=\"tg-0lax\">0.97</td>\n",
    "    <td class=\"tg-0lax\">0.97</td>\n",
    "    <td class=\"tg-0lax\">1.00</td>\n",
    "    <td class=\"tg-0lax\">1.00</td>\n",
    "    <td class=\"tg-0lax\">0.90</td>\n",
    "    <td class=\"tg-0lax\">0.98</td>\n",
    "    <td class=\"tg-0lax\">0.95</td>\n",
    "  </tr>\n",
    "  <tr>\n",
    "    <td class=\"tg-0lax\">Hard</td>\n",
    "    <td class=\"tg-0lax\">0.95</td>\n",
    "    <td class=\"tg-0lax\">0.90</td>\n",
    "    <td class=\"tg-0lax\">0.96</td>\n",
    "    <td class=\"tg-0lax\">0.83</td>\n",
    "    <td class=\"tg-0lax\">0.98</td>\n",
    "    <td class=\"tg-0lax\">0.87</td>\n",
    "    <td class=\"tg-0lax\">0.97</td>\n",
    "  </tr>\n",
    "  <tr>\n",
    "    <td class=\"tg-0lax\" rowspan=\"2\">Bernoulli Naive Bayes</td>\n",
    "    <td class=\"tg-0lax\">Easy</td>\n",
    "    <td class=\"tg-0lax\">0.92</td>\n",
    "    <td class=\"tg-0lax\">0.91</td>\n",
    "    <td class=\"tg-0lax\">0.98</td>\n",
    "    <td class=\"tg-0lax\">0.99</td>\n",
    "    <td class=\"tg-0lax\">0.71</td>\n",
    "    <td class=\"tg-0lax\">0.95</td>\n",
    "    <td class=\"tg-0lax\">0.82</td>\n",
    "  </tr>\n",
    "  <tr>\n",
    "    <td class=\"tg-0lax\">Hard</td>\n",
    "    <td class=\"tg-0lax\">0.91</td>\n",
    "    <td class=\"tg-0lax\">0.86</td>\n",
    "    <td class=\"tg-0lax\">0.92</td>\n",
    "    <td class=\"tg-0lax\">0.63</td>\n",
    "    <td class=\"tg-0lax\">0.98</td>\n",
    "    <td class=\"tg-0lax\">0.73</td>\n",
    "    <td class=\"tg-0lax\">0.95</td>\n",
    "  </tr>\n",
    "</tbody>\n",
    "</table>"
   ]
  },
  {
   "cell_type": "markdown",
   "id": "45fc93fe",
   "metadata": {},
   "source": [
    "By comparing the precision and recall for the positive class, i.e. spam, we can see that the models have reduced for both Multinominal Naive Bayes and Bernoulli Naive Bayes classifiers. By extracting the email body, we can see that the header and footer of the emails did have some necessary information to help classify the email as spam or ham."
   ]
  },
  {
   "cell_type": "markdown",
   "id": "6a241b86",
   "metadata": {},
   "source": [
    "### b. The split of the data set into a training set and a test set can lead to very skewed results. Why is this, and do you have suggestions on remedies?"
   ]
  },
  {
   "cell_type": "markdown",
   "id": "4c1e0714",
   "metadata": {},
   "source": [
    "Our training dataset is imbalanced, and most of the data is from the ham class. The class distribution is skewed, so most machine learning algorithms will perform poorly and require modification to avoid simply predicting the majority class in all cases.\n",
    "\n",
    "For instance, in our dataset, we consider spam and ham emails. The training dataset consists mainly of ham emails, and the model might be more inclined to predict ham since there are more ham emails than spam emails. \n",
    "\n",
    "There are many ways to handle imbalanced datasets; below are a few suggestions :\n",
    "\n",
    "* Using SMOTE(Synthetic Minority Oversampling Technique) generates synthetic samples for your imbalanced text data.  \n",
    "* Balancing the data with Oversampling techniques or undersampling the majority class.\n",
    "* Use the stratified parameters when splitting the training and test set so that the output has a balanced distribution\n",
    "* Assign class_weights as a parameter to the model's fit method, for instance, increasing weights of minority classes."
   ]
  },
  {
   "cell_type": "markdown",
   "id": "2669bfdd",
   "metadata": {},
   "source": [
    "### c.\tWhat do you expect would happen if your training set were mostly spam messages while your test set were mostly ham messages?"
   ]
  },
  {
   "cell_type": "markdown",
   "id": "db912bc6",
   "metadata": {},
   "source": [
    "The class distribution would again be imbalanced. However, this time, the results will be more skewed towards the opposite direction (more likely to predict spam rather than ham), i.e. there would be many more false positives where hams will be classified as spams."
   ]
  },
  {
   "cell_type": "code",
   "execution_count": null,
   "id": "37c5a04a",
   "metadata": {},
   "outputs": [],
   "source": []
  }
 ],
 "metadata": {
  "kernelspec": {
   "display_name": "Python 3.9.9 ('base')",
   "language": "python",
   "name": "python3"
  },
  "language_info": {
   "codemirror_mode": {
    "name": "ipython",
    "version": 3
   },
   "file_extension": ".py",
   "mimetype": "text/x-python",
   "name": "python",
   "nbconvert_exporter": "python",
   "pygments_lexer": "ipython3",
   "version": "3.9.9"
  },
  "vscode": {
   "interpreter": {
    "hash": "57bc2b6ce032b5f0e93daa91901b7ea38a856826ef43aa9e95b6d3999f5310df"
   }
  }
 },
 "nbformat": 4,
 "nbformat_minor": 5
}
